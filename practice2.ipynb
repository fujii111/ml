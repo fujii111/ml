{
 "cells": [
  {
   "cell_type": "code",
   "execution_count": 9,
   "metadata": {},
   "outputs": [],
   "source": [
    "# aを文字列型とする\n",
    "a = \"Machine Learning\"\n",
    "\n",
    "# aの型を表示する\n"
   ]
  },
  {
   "cell_type": "code",
   "execution_count": 12,
   "metadata": {
    "scrolled": true
   },
   "outputs": [
    {
     "name": "stdout",
     "output_type": "stream",
     "text": [
      "[1, 3, 5, 7, 9, 11, 13, 15, 17, 19, 21, 23, 25]\n"
     ]
    }
   ],
   "source": [
    "# 1から25までの奇数を格納したリストaを作成する\n",
    "\n",
    "\n",
    "# aを表示する\n",
    "print(a)"
   ]
  },
  {
   "cell_type": "code",
   "execution_count": 17,
   "metadata": {},
   "outputs": [],
   "source": [
    "import numpy as np\n",
    "# 2次正方行列A,Bを定義する\n",
    "A = np.array([[-2, 3], [1, -4]])\n",
    "B = np.array([[1, 0], [2, -1]])\n",
    "\n",
    "# AとBの行列積を表示する\n"
   ]
  },
  {
   "cell_type": "code",
   "execution_count": 35,
   "metadata": {},
   "outputs": [
    {
     "name": "stdout",
     "output_type": "stream",
     "text": [
      "[0.55 0.71 0.29 0.51 0.89]\n"
     ]
    }
   ],
   "source": [
    "import numpy as np\n",
    "# シード3で乱数を固定し、5つのランダムな要素からなるndarray型のリストaを生成する\n",
    "\n",
    "\n",
    "# aの各要素の小数点以下3桁を四捨五入したndarray型のリストを表示する\n",
    "print(np.round(a,2))"
   ]
  },
  {
   "cell_type": "code",
   "execution_count": 44,
   "metadata": {},
   "outputs": [
    {
     "data": {
      "image/png": "[encoded data removed]",
      "text/plain": [
       "<Figure size 432x288 with 1 Axes>"
      ]
     },
     "metadata": {
      "needs_background": "light"
     },
     "output_type": "display_data"
    }
   ],
   "source": [
    "import numpy as np\n",
    "import matplotlib.pyplot as plt\n",
    "%matplotlib inline\n",
    "\n",
    "# f(x) = 170 - 108exp(-0.2x) のグラフ(expは指数関数)を描画する\n",
    "# xの範囲は5から30で、プロットは100分割し、さらにグリッド線を引く\n",
    "\n",
    "plt.show()"
   ]
  },
  {
   "cell_type": "code",
   "execution_count": null,
   "metadata": {},
   "outputs": [],
   "source": []
  }
 ],
 "metadata": {
  "kernelspec": {
   "display_name": "Python 3",
   "language": "python",
   "name": "python3"
  },
  "language_info": {
   "codemirror_mode": {
    "name": "ipython",
    "version": 3
   },
   "file_extension": ".py",
   "mimetype": "text/x-python",
   "name": "python",
   "nbconvert_exporter": "python",
   "pygments_lexer": "ipython3",
   "version": "3.7.0"
  }
 },
 "nbformat": 4,
 "nbformat_minor": 2
}
