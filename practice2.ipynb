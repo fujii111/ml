{
 "cells": [
  {
   "cell_type": "code",
<<<<<<< HEAD
   "execution_count": null,
   "metadata": {},
   "outputs": [],
=======
   "execution_count": 3,
   "metadata": {
    "collapsed": false
   },
   "outputs": [
    {
     "name": "stdout",
     "output_type": "stream",
     "text": [
      "<class 'str'>\n"
     ]
    }
   ],
>>>>>>> fecb2da7a46ef1983effb3aeeddceef4a26a6e62
   "source": [
    "# aを文字列型とする\n",
    "a = \"Machine Learning\"\n",
    "\n",
    "# aの型を表示する\n",
    "print(type(a))"
   ]
  },
  {
   "cell_type": "code",
<<<<<<< HEAD
   "execution_count": null,
=======
   "execution_count": 7,
>>>>>>> fecb2da7a46ef1983effb3aeeddceef4a26a6e62
   "metadata": {
    "collapsed": false,
    "scrolled": true
   },
   "outputs": [],
   "source": [
    "# 1から25までの奇数を格納したリストaを作成する\n",
    "\n",
    "#a = list(range(13))\n",
    "#for i in a:\n",
    "#    a[i] = a[i] * 2 + 1\n",
    "\n",
    "#a = list(range(1, 25 + 1))[::2]\n",
    "#a = list(range(1, 25 + 1, 2))\n",
    "\n",
    "a = [2 * n + 1 for n in range(13)]\n",
    "\n",
    "# aを表示する\n",
    "print(a)"
   ]
  },
  {
   "cell_type": "code",
<<<<<<< HEAD
   "execution_count": null,
   "metadata": {},
   "outputs": [],
=======
   "execution_count": 9,
   "metadata": {
    "collapsed": false
   },
   "outputs": [
    {
     "name": "stdout",
     "output_type": "stream",
     "text": [
      "[[ 4 -3]\n",
      " [-7  4]]\n",
      "[[-2  3]\n",
      " [-5 10]]\n"
     ]
    }
   ],
>>>>>>> fecb2da7a46ef1983effb3aeeddceef4a26a6e62
   "source": [
    "import numpy as np\n",
    "# 2次正方行列A,Bを定義する\n",
    "A = np.array([[-2, 3], [1, -4]])\n",
    "B = np.array([[1, 0], [2, -1]])\n",
    "\n",
    "# AとBの行列積を表示する\n",
    "print(A.dot(B))"
   ]
  },
  {
   "cell_type": "code",
<<<<<<< HEAD
   "execution_count": null,
   "metadata": {},
   "outputs": [],
=======
   "execution_count": 10,
   "metadata": {
    "collapsed": false
   },
   "outputs": [
    {
     "name": "stdout",
     "output_type": "stream",
     "text": [
      "[ 0.55  0.71  0.29  0.51  0.89]\n"
     ]
    }
   ],
>>>>>>> fecb2da7a46ef1983effb3aeeddceef4a26a6e62
   "source": [
    "import numpy as np\n",
    "# シード3で乱数を固定し、5つのランダムな要素からなるndarray型のリストaを生成する\n",
    "\n",
    "np.random.seed(3)\n",
    "a = np.random.rand(5)\n",
    "\n",
    "# aの各要素の小数点以下3桁を四捨五入したndarray型のリストを表示する\n",
    "print(np.round(a,2))"
   ]
  },
  {
   "cell_type": "code",
<<<<<<< HEAD
   "execution_count": null,
   "metadata": {},
   "outputs": [],
=======
   "execution_count": 17,
   "metadata": {
    "collapsed": false
   },
   "outputs": [
    {
     "data": {
      "image/png": "iVBORw0KGgoAAAANSUhEUgAAAg4AAAFkCAYAAABIPLOYAAAABHNCSVQICAgIfAhkiAAAAAlwSFlz\nAAAPYQAAD2EBqD+naQAAIABJREFUeJzt3XmYFNXZ/vHvoyIIisYFx40o4hp/EpeYEPclaEAb1yDu\nYNTEwfgSA0aTOKiJEYwboMkLEvIqZjCIAkFFjAsG1GAYxaCMJi4ZRUEGUMBhkzm/P06PzNbDLN2n\nurruz3XVNTPV1d1P3dM6D1WnTplzDhEREZHm2CLqAkRERCQ+1DiIiIhIs6lxEBERkWZT4yAiIiLN\npsZBREREmk2Ng4iIiDSbGgcRERFpNjUOIiIi0mxqHERERKTZ1DiIiIhIs7W4cTCzY81smpktMrNq\nM0vVe7zazDamv9Zerqu1TXszu8/MKs1slZk9amZdsrFDIiIikjutOeLQCXgduBpo7EYXRcBu6a9F\nwECgGni01jb3AH2Ac4DjgN2Bya2oRURERAKyttzkysyqgTOdc9Oa2GYK0Mk59730z52BpcD5zrnH\n0+sOABYC33HOzW11QSIiIpJTOR3jkD790Bt4oNbqI4CtgGdrVjjn3gYqgJ65rEdERETaZqscv/5l\nwErg8VrrioD1zrmV9bZdkn6sATPbCTgV+ABYm/UqRUREClcHYG/gaefcsra+WK4bhwHABOfc+ja+\nzqnAw1moR0REJKkuBP7c1hfJWeNgZscC+wPn1XtoMbC1mXWud9Rh1/RjjfkAYMKECRx00EHZLlUy\nGDx4MHfffXfUZSSKMg9PmYenzLPPOdi4Edavhw0bNi1ffglvv72Q66+/CNJ/S9sql0ccLgfmOecW\n1Fs/D/gSOJn0KYz04MiuwMsZXmstwEEHHcThhx+em2qlge233155B6bMw1Pm4RVS5tXVsHYtrFmz\n6Wvt79euzbysW7fpa1Pfr1/f8PvaX2uWZsjKqf4WNw5m1gnoDlh6VTcz6wEsd859mN6mM3AuMLj+\n851zK81sHHCXma0AVgEjgTm6oiK/LF6c6QCQ5IoyD0+Zhxcq8+pq+OILv6xeven7mqWqqu73NUvt\nn9esqftYTWNQs6xb1/K6OnSA9u1hm23815qfa77WLJ06wY47wtZbb1pX+/vaP2+9deblvffg8suz\nl2trjjgcCTyPn8PBAXem1/8ffs4GgH7prxMzvMZgYCN+bof2wAyguBW1SA4tWrQo6hISR5mHp8zD\ny5S5c/6P8cqVDZdVqzZ9rb+sXr3pa+2lqqp59XTs6P9I1/66zTb+a8eO/o/3NttsWlf7a+2lQ4e6\n39f8XNMkdOgA7dqB2eZryqbOnbP7ei1uHJxzs9jMZZzOubHA2CYeXwdck14kTx1xxBFRl5A4yjw8\nZZ491dX+j/uKFX757LPGly22OIK+feHzz/3PK1f671eu9OfkM2nXDrbbzi+dO8O22276uaho08/b\nbusbgNpf66+r3SCE/kMed7m+qkJirH///lGXkDjKPDxl3pBz/l/wlZWbluXLYdmyTcvy5b45WL58\n0/effeabh8Zstx3ssANsvz106tSfjRthjz3g4IP9+s6d/WOdOzf8vqY56NAhbA7SuDbNHBmKmR0O\nzJs3b17BDKgREQnFOf9H/dNPGy5Ll/qlsnLT18pKPyK/vm228Yftd9rJf629fO1rmZfOnWEr/TM1\nMmVlZTVH1o5wzpW19fX0qxQRiamqKvjkk03L4sV1lyVL/PLppw1H3W+5JeyyS93l4INh55399zvt\n5L/feWf//U47+cZBRI2DZDRgwADGjx8fdRmJoszDy8fMN270f+w/+sgvixZtWj7+eNPy+ed1n9e+\nvT/XX1QEu+4KRxwBXbr473fdddP3Xbr40wNb5PSmA5nlY+bSfGocJKNevXpFXULiKPPwQmfunB8P\n8N//+uXDD/1SUeG/fvSRbwpqDxLcems/HmD33f3X//f//Pe77eaX3Xf3zcIOO8RjoJ8+5/GmMQ4i\nIllU0xi8/z588IH/WvN9TbOwevWm7bfeGvbaa9PStSvsueemZY89/OmCODQEkp80xkFEJGLV1f60\nwX/+45d33/XLe+/5r7VPIXTqBPvsA3vvDSeeCF//et1ll12iO2Ug0hpqHEREGuGcH2fwzjsNl3ff\n3TRj4BZb+KME++7rxxScdx506+aXvff2gwp1tEAKiRoHyWj27Nkcc8wxUZeRKMo8vFmzZrPHHsfw\n1luwcCGUl29aPvvMb2Pmm4D994eTToKrroLu3f2y997+dIM0nz7n8abGQTIaMWKE/uMOTJnnTnW1\nH2uwYMGm5a23YMGCEVRX+8w7d4YDD/RLKgUHHOC/79ZNkw9lkz7n8abBkZJRVVUVHTt2jLqMRFHm\n2bF8OfzrXzB/Przxhl/efHPTvQt22AEOOQS+8Q3o3r2Kb36zIwcf7K9Q0GmF3NPnPCwNjpRg9B92\neMq8ZZzzlzG+/jq89tqm5cMP/eNbb+2bg0MPhfPP983CIYfUbxCUeWj6nMebGgcRiQXnfEPwz3/C\nvHmbvi5b5h/feWc47DDo3x969PDL/vv7GyOJSPaocRCRvLRiBbz6Ksydu2lZssQ/tttucOSRcM01\ncPjhftl9d51mEAlBVw9LRkOGDIm6hMRJaubV1X5MwpgxMGCAH5C4445w6qlw553+0scrroCpUzdN\nuzxtGpSUwBln+EmSWts0JDXzKCnzeNMRB8moa9euUZeQOEnJfM0afwRhzhyYPRteeslPmrTlln48\nwkknwY03wne+A/vtl9sjCUnJPJ8o83jTVRUiknOrVvnmYNYsv7z6qr9tc+fO8N3vwjHHwNFH+9MP\n224bdbUihUVXVYhI3quq8kcTnnvOL/Pm+Ts+dukCxx/vBzAee6y/wmHLLaOuVkRaQo2DiLTZl1/6\nqxyeeQaefRZefhnWr/eNwoknwsCBvmE44AANYBSJOzUOklF5eTkHHnhg1GUkSpwy/+ADePppmDnT\nNwuff+5PPZx4Ivzud36cwsEH53+jEKfMC4UyjzddVSEZDR06NOoSEiefM1+3Dv72N7juOt8Q7LMP\nFBf7SyQHD/ZjGJYtgylT/GWS3/hG/jcNkN+ZFyplHm864iAZjR49OuoSEiffMv/0U3jiCfjrX/2R\nhS++8PMlnHYa3HornHIKbL991FW2Tb5lngTKPN7UOEhGumQqvHzIvLwcHn/cz5Pwj3/4dd/+tr88\nsk8ff7lkHI4kNFc+ZJ40yjze1DiIJJxzfmDj44/7pbwcOnb0ky+NG+ebhS5doq5SRPKFGgeRBHLO\nH02YNAkefdTfKGqnnfwsjMOHw/e+B9tsE3WVIpKPNDhSMho+fHjUJSROLjOvObJw3XWw997QsydM\nmOCPKDz3HCxeDOPHQyqVrKZBn/PwlHm86YiDZFRVVRV1CYmTi8zLy6G0FP78Z/jPf/xph3POgR/8\nwE/ClPQJmPQ5D0+Zx5umnBYpQJ9+6puFBx+EsjI/v8I55/gZG088EbbSPxlEEiPbU063+FSFmR1r\nZtPMbJGZVZtZqpFtDjKzqWb2mZmtNrN/mNmetR5/If3cmmWjmd3f1p0RSbK1a/14hTPO8JdMDhkC\nX/86TJ7s51r44x/92AU1DSLSFq35X0gn4HVgHPBY/QfNbF/g78BY4FfAKuAbwNpamzlgTPrxmgu7\ndOxKpBXmz/dXP0yYACtW+EsnR46Efv38gEcRkWxqcePgnJsBzAAwa/Rq7l8DTzjnbqi17v1Gtqty\nzi1t6ftLOJWVley8885Rl5Eozc185Uo/ZmHcOD/gsUsX+OEP/T0hNJNvy+hzHp4yj7esXlWRbiT6\nAP82sxlmtsTMXjGzvo1sfqGZLTWzf5nZbWaWoHHc8TBw4MCoS0iczWX+2mtw1VX+VERxMRQV+bkX\nPvoIRoxQ09Aa+pyHp8zjLdtnO7sA2wLXA78AhgLfBx4zsxOcc39Pb/cw8F/gY+BQYASwP3BuluuR\nNhg2bFjUJSROY5mvXQsTJ8Lvfw9z58Iee/jxC5dfDnvu2fA1pGX0OQ9PmcdbtudxqHm9Kc65kc65\nN5xzw4HpwI9qNnLOPeCce8Y596ZzrhS4GDjLzPZp6sV79+5NKpWqs/Ts2ZMpU6bU2W7mzJmkUg3G\nbFJcXMy4cePqrCsrKyOVSlFZWVlnfUlJSYNrjSsqKkilUpSXl9dZP2rUKIYMGVJnXVVVFalUitmz\nZ9dZX1payoABAxrU1q9fv7zbj8MPP7wg9gPi8/uofdXQLbeM4jvfGcJee8GAAbDDDjBxYhWHHZbi\n5JNn12ka8m0/asv338czzzxTEPsRp98HUBD7kY+/j9LS0q/+NhYVFZFKpRg8eHCD57RFmy7HNLNq\n4Ezn3LT0z+2AL4Bhzrnbam13O3C0c+7YDK/TEVgNnOqce6aRx3U5piTGSy/BPffAY4/5qZ8HDvSn\nJfbbL+rKRCSOsn05ZlZPVTjnNpjZq8AB9R7aH39qIpPD8FdafJLNekTiYuNGP1bhzjvhlVdg//19\n83DppbDddlFXJyKySWvmcehkZj3M7JvpVd3SP++V/vkOoJ+Z/dDM9jWzQcDpwH3p53czs1+a2eFm\n9vX0PBD/B8xyzi3Iwj5JljR2eFGy64svYNQofzThvPNgxYpxTJ8OCxfCoEFqGkLQ5zw8ZR5vrRnj\ncCTwGjAPf5TgTqAMuBnAOTcFP55hKPAGMBA42zn3cvr564FTgKeBhfhGYxLQ8KSSRKqsrM1HtCSD\nFSvg1lv9BE2DB/v7RsybByefXEafPrCF7iITjD7n4SnzeNOU0yIBffIJ3HUX/OEP8OWXfu6Fn/3M\nNxAiIrmQ12McRKRxixbB7bfD2LHQvj1ccw38z//4iZtEROJEjYNIDn34oW8YHngAOnWCX/7SNw3b\nbx91ZSIiraPGQSQHPvkEfvMbf4Rh222hpMQPduzcOerKRETaRkOwJKPGJkGRpi1fDj//Oey7Lzz8\nsG8YPvgAbryxeU2DMg9PmYenzONNRxwko0GDBkVdQmysXu3nXbjjDj8nw3XX+WWHHVr2Oso8PGUe\nnjKPN11VIdIGX34J48fDTTf5ow0//jHccAPsumvUlYmIeNm+qkKnKkRawTl44gno0QOuvBJOPhne\neccfdVDTICKFTI2DSAu98QaccgqcfrpvEv75T5gwQXMxiEgyqHGQjOrfNS7pKiv9qYjDDvPzMkyf\nDs8+C/4IYHYo8/CUeXjKPN7UOEhGpaWlUZeQFzZsgJEj/f0kSkv9jaj+9S/o0wfMsvteyjw8ZR6e\nMo83DY4UacKLL8LVV8Nbb/npoX/9a832KCLxosGRIgEsWeJvaX388f4Olf/8J4wZo6ZBRETzOIjU\nsnGjbxBuvNHfoXLsWBg4UHerFBGpof8diqQtWABHH+1PTZxzDrz9tj89oaZBRGQT/S9RMhowYEDU\nJQSxbp2fwOmww+Dzz+Hvf/c3pdp55/C1JCXzfKLMw1Pm8aZTFZJRr169oi4h5+bM8UcV3n3Xn564\n8UZ/2+uoJCHzfKPMw1Pm8aarKiSRqqp8kzByJBx1lD/CcMghUVclIpJ92b6qQkccJHFeegkuuww+\n/BB+9zu49lrYcsuoqxIRiQeNcZDEWLsWhgyBY46BHXeE11+Hn/5UTYOISEuocZCMZs+eHXUJWfP6\n635q6JEj4be/hdmz4YADoq6qoULKPC6UeXjKPN7UOEhGI0aMiLqENquu9qcjjjoKttoK5s2D66/3\n3+ejQsg8bpR5eMo83tQ4SEYTJ06MuoQ2WbQIevXypyd+8hOYOzf/B0DGPfM4UubhKfN4y9N/d0k+\n6NixY9QltNrjj/vLLNu3h2ee8bfBjoM4Zx5Xyjw8ZR5vOuIgBWXdOn904eyz4bjj/F0s49I0iIjE\ngY44SMF4913o1883C6NGQXFx9m97LSKSdDriIBkNGTIk6hKabdIkOPxw+OwzP0/DoEHxbBrilHmh\nUObhKfN4U+MgGXXt2jXqEjZrwwY/gdMPfgCnneavmvATpMVTHDIvNMo8PGUeby2ectrMjgWGAEcA\nuwFnOuem1dvmIOB24Hj86ZA3gXOccx+lH28P3AX0A9oDTwNXO+c+zfCemnJaGvjkE98wvPIK3H23\nTk2IiDQm21NOt+aIQyfgdeBqoEHXYWb7An8H3gKOA/4fcCuwttZm9wB9gHPS2+wOTG5FLZJQc+b4\nIwvvvgsvvBDfUxMiInHT4sGRzrkZwAwAs0b/V/1r4Ann3A211r1f842ZdQYGAuc752al1w0AFprZ\nUc65uS2tSZLDObj/fvif/4GePeEvf4GioqirEhFJjqyOcUg3En2Af5vZDDNbYmavmFnfWpsdgW9Y\nnq1Z4Zx7G6gAemazHmmb8vLyqEuoY/16uPJKf3ShuBiefbbwmoZ8yzwJlHl4yjzesj04sguwLXA9\n8CTwPeBx4LH02AiAImC9c25lvecuST8meWLo0KFRl/CVpUv9fAwPPgh/+hPccw+0axd1VdmXT5kn\nhTIPT5nHW7bncahpRKY450amv3/DzL4L/Ag/9kFiYvTo0VGXAMAbb0AqBWvWwPPPw3e/G3VFuZMv\nmSeJMg9Pmcdbto84VAJfAgvrrV8I1Fx/sxjYOj3WobZd049l1Lt3b1KpVJ2lZ8+eTJkypc52M2fO\nJJVKNXh+cXEx48aNq7OurKyMVCpFZWVlnfUlJSUMHz68zrqKigpSqVSDw2yjRo1qcF1yVVUVqVSq\nwV3gSktLGTBgQIPa+vXrl3f70bVr18j3Y+pU3yisXVvCwIHD6zQNhfj7qH2ZWpz3o7Z834/S0tKC\n2I84/T4qKysLYj/y8fdRWlr61d/GoqIiUqkUgwcPbvCctmjx5Zh1nmxWTb3LMc1sDvAf59yltdY9\nBlQ55y5KNwxL8YMjH08/fgC+ufhOY4MjdTlmMt1zD/z0p3DWWf4URadOUVckIhI/2b4cs8WnKsys\nE9AdqLmiopuZ9QCWO+c+BO4AJprZ34Hnge8Dp+PndMA5t9LMxgF3mdkKYBUwEpijKyoEYONG3zCM\nHOnvbHn77bCFpioTEckLrfnf8ZHAa8A8/DwOdwJlwM0Azrkp+PEMQ4E38Jdenu2ce7nWawwGpgOP\nAi8AH+PndJA8Uv9QWwhffOFvUDV6NNx3H4wYkaymIYrMk06Zh6fM46018zjMYjMNh3PuT8Cfmnh8\nHXBNepE8VVVVFfT9liyBM86At96CadOgT5+gb58XQmcuyjwKyjze2jTGIRSNcSh8770HvXr5Iw5P\nPOFvWCUiIm2XD1NOi2TV/Plw9NF+yuiXXlLTICKSz9Q4SKRefBGOOw52393ff2KffaKuSEREmqLG\nQTKqf21ytk2d6k9PHHmkn9ipS5ecvl0s5DpzaUiZh6fM402Ng2Q0cODAnL32hAlwzjl+MOSTT0Ln\n+tOBJVQuM5fGKfPwlHm8qXGQjIYNG5aT1x07Fi65BC69FCZOhPbtc/I2sZSrzCUzZR6eMo83NQ6S\nUS6uYBk50t/hsrjYNxBbbpn1t4g1XTUUnjIPT5nHmxoHCeb22+Haa/1skCNHJmtiJxGRQqH/dUsQ\nw4bBDTf4r8OH+0svRUQkftQ4SEb17wTXWjff7Jfbb4eSEjUNTclW5tJ8yjw8ZR5vahwko7KyNk8w\nxq23+qMMt98O11/f9poKXTYyl5ZR5uEp83jTlNOSM7/5Dfzyl/7rjTdGXY2ISDJpymmJhdtv903D\nLbeoaRARKSRqHCTr7rzTD4QsKYFf/SrqakREJJvUOEhWjR0LP/vZpsZBREQKixoHySiVSrVo+0ce\ngauugkGD/LgGXT3Rci3NXNpOmYenzONNjYNkNGjQoGZv+8QTcNFFfrn3XjUNrdWSzCU7lHl4yjze\ndFWFtNmsWXDaaX6ZNAm22irqikREpIauqpC8Ulbm73B5zDH+hlVqGkRECpsaB2m1996D738fDjoI\nHn9cd7kUEUkCNQ6S0ZQpUzI+tnQpnHoqbL89TJ8O224bsLAC1lTmkhvKPDxlHm9qHCSj0tLSRtd/\n8QX06QOrVsGMGbDLLoELK2CZMpfcUebhKfN40+BIaZENG+DMM+HFF/2gSP06RETyW7YHR2oomzSb\nc/CjH8HMmfDkk2oaRESSSI2DNNvtt8Mf/wgPPgjf+17U1YiISBQ0xkGaZdIkf7OqkhK4+OKoqxER\nkaiocZCMBgwYAMA//gGXXAL9++v+E7lWk7mEo8zDU+bxpsZBMurVqxf//S/07QuHHeZPU2gq6dzq\n1atX1CUkjjIPT5nHW4sbBzM71symmdkiM6s2s1S9x8en19denqy3zQv1Ht9oZve3dWcku/r06c/p\np0PHjjB1KnToEHVFha9///5Rl5A4yjw8ZR5vrRkc2Ql4HRgHPJZhm6eAy4Caf5+uq/e4A8YAv6q1\nTVUrapEc2bgRLrgAKirg5Zc1V4OIiHgtbhycczOAGQBmGQ9cr3POLd3MS1U1YxuJyE03wVNP+bte\nHnxw1NWIiEi+yNUYhxPMbImZlZvZ/Wa2YyPbXGhmS83sX2Z2m5ltk6NapIUmTYLbboMrr5zNaadF\nXU2yzJ49O+oSEkeZh6fM4y0XjcNTwCXAScBQ4HjgyXpHJx4GLgJOAG4DLgYeykEt0kLz58Nll/kr\nKBYtGhF1OYkzYoQyD02Zh6fM461NU06bWTVwpnNuWhPb7AO8C5zsnHs+wzYnAM8C3Z1z7zfyuKac\nDqCyEr71Lfja18D/g6CKjh07Rl1WolRVKfPQlHl4yjysbE85nfPLMdONQCXQvYnN5uIHSTa1Db17\n9yaVStVZevbs2eBOazNnziSVSjV4fnFxMePGjauzrqysjFQqRWVlZZ31JSUlDB8+vM66iooKUqkU\n5eXlddaPGjWKIUOG1FlXVVVFKpVqcEiutLS00WuY+/XrF+l+fPklfPe7o1iyZAiPP+6vpOjYsWPs\n9gPi/fuo/T/TOO9Hbfm+H6NGjSqI/YjT76O8vLwg9iMffx+lpaVf/W0sKioilUoxePDgBs9pixBH\nHPYE/gv0dc5Nz7DN0cCLQA/n3IJGHtcRhxwbOhTuuguefRaOPz7qakREJFsiv8mVmXXCHxmoGbPQ\nzcx6AMvTSwkwGVic3m448A7wdPr53YALgCeBZUAP4C5gVmNNg+TelClwxx1w551qGkREpGmtOVVx\nJPAaMA8/H8OdQBlwM7AROBSYCrwNjAVeBY5zzm1IP389cAq+kVgI3AFMAhoeG5Kc+89/4NJL4eyz\nof7RrPqHzyT3lHl4yjw8ZR5vrZnHYRZNNxxNXsDnnPsIfzWFRGzNGjj3XOjSpfHppLt27RpNYQmm\nzMNT5uEp83hr0xiHUDTGITcuvxxKS+GVV+DQQ6OuRkREciHyMQ5SGP74R7/86U9qGkREpPl0d8wE\nWrAAiovhiiv8+AYREZHmUuOQMFVV0K8f7Lcf3Htv09vWv95Yck+Zh6fMw1Pm8abGIWEGD4b334eJ\nE2GbzdwdZOjQoWGKkq8o8/CUeXjKPN40xiFBJk2CMWP80pw7Xo4ePTr3RUkdyjw8ZR6eMo83HXFI\niA8+8GMafvAD+OEPm/ccXTIVnjIPT5mHp8zjTY1DAmzY4O92+bWv+aMN9edrEBERaS6dqkiAm2+G\nV1/1d7zcfvuoqxERkTjTEYcCN2cO/Pa3cMst8J3vtOy59e/uJrmnzMNT5uEp83hT41DAVq2CSy7x\nDcP117f8+VVVVdkvSpqkzMNT5uEp83jTlNMF7Ior/GWX8+dDt25RVyMiIlHQlNPSLNOmwQMP+EVN\ng4iIZItOVRSgTz/1l1ymUjBwYNTViIhIIVHjUGCc86coAMaObdull5WVldkpSppNmYenzMNT5vGm\nxqHA/OlP/jTF2LHQpUvbXmugDlcEp8zDU+bhKfN4U+NQQBYt8veiuPRS6Nu37a83bNiwtr+ItIgy\nD0+Zh6fM402NQ4FwDq66Cjp2hLvvzs5r6gqW8JR5eMo8PGUeb7qqokBMmABPPAFTp/qppUVERHJB\nRxwKwCefwLXXwgUX+CspREREckWNQ8w5Bz/+MbRrByNHZve1x40bl90XlM1S5uEp8/CUebypcYi5\niRP96Yn774eddsrua5eVtXmCMWkhZR6eMg9PmcebppyOsaVL4aCD4KST4C9/iboaERHJR9meclpH\nHGLsuuuguhpGj466EhERSQpdVRFTzz4LDz0E48a1faInERGR5tIRhxhaswZ+9CM47jgYMCDqakRE\nJEnUOMTQb34DFRXwv//btntRbE5K13YGp8zDU+bhKfN4U+MQM2++CcOHww03wIEH5va9Bg0alNs3\nkAaUeXjKPDxlHm8tbhzM7Fgzm2Zmi8ys2sxS9R4fn15fe3my3jbtzew+M6s0s1Vm9qiZ6Uz9ZlRX\n+2mlu3XzjUOu9erVK/dvInUo8/CUeXjKPN5ac8ShE/A6cDWQ6VrOp4BdgaL00r/e4/cAfYBzgOOA\n3YHJraglUR54AObM8aco2rePuhoREUmiFl9V4ZybAcwAMMt4hn2dc25pYw+YWWdgIHC+c25Wet0A\nYKGZHeWcm9vSmpKgshJ+/nO47DI44YSoqxERkaTK1RiHE8xsiZmVm9n9ZrZjrceOwDcsz9ascM69\nDVQAPXNUT+zdcIOfXnrEiHDvOWXKlHBvJoAyj4IyD0+Zx1suGoengEuAk4ChwPHAk7WOThQB651z\nK+s9b0n6Maln7lw/X8Ovfw277BLufUtLS8O9mQDKPArKPDxlHm9Zbxycc39xzk13zr3pnJsGnA4c\nBZzQ1tfu3bs3qVSqztKzZ88G3evMmTMbvdynuLi4wc1VysrKSKVSVFZW1llfUlLC8OHD66yrqKgg\nlUpRXl5eZ/2oUaMYMmRInXVVVVWkUilmz55dZ31paSkDGpl8oV+/fo3uxxlnpCguhh49/NwNIffj\nkUceydp+FMrvI9f78cgjjxTEftSW7/tRfxr7uO5HnH4f119/fUHsRz7+PkpLS7/621hUVEQqlWLw\n4MENntMWbbpXhZlVA2emG4SmtvsU+IVzbqyZnQj8Dfha7aMOZvYBcLdz7t5Gnp/Ye1WMGeOvpJgz\nB7773ahwevLkAAAbfElEQVSrERGRuIndvSrMbE9gJ+CT9Kp5wJfAybW2OQDoCryc63riZNkyP7bh\n0kvVNIiISH5o8VUVZtYJ6A7UjFnoZmY9gOXppQR/aeXi9HbDgXeApwGccyvNbBxwl5mtAFYBI4E5\nuqKirl/8AjZu9BM+iYiI5IPWHHE4EngNf+TAAXcCZcDNwEbgUGAq8DYwFngVOM45t6HWawwGpgOP\nAi8AH+PndJC0efP8aYpbboFdd42mhsbOpUluKfPwlHl4yjzeWjOPwyyabjhOa8ZrrAOuSS9Sj3Nw\n7bXwjW/A1VdHV4dmdwtPmYenzMNT5vHWpsGRoSRtcOSkSfCDH8Azz8App0RdjYiIxFnsBkdKy6xd\nC0OHwumnq2kQEZH80+JTFZJb99wDH30EM2ZEXYmIiEhDOuKQRxYvhttug+JiOOCAqKuhweQjknvK\nPDxlHp4yjzc1DnnkV7+CrbaCm26KuhJvRMgbYwigzKOgzMNT5vGmUxV5Yv58fz+Ke++FHXfc/PYh\nTJw4MeoSEkeZh6fMw1Pm8aYjDnnAORg82J+eqLkfRT7o2LFj1CUkjjIPT5mHp8zjTUcc8sCTT8Lz\nz8P06dCuXdTViIiIZKYjDhHbuBF+/nM48UTo3TvqakRERJqmxiFiDz0ECxb4+1GYbX77kOrf6lVy\nT5mHp8zDU+bxpsYhQmvW+CspzjsPvvWtqKtpqGvXrlGXkDjKPDxlHp4yjzdNOR2h3/3O3zb7rbdg\nv/2irkZERAqRppwuECtW+MmerrxSTYOIiMSHGoeIDB8O69f7UxUiIiJxocYhAh995Cd6uu46KCqK\nuprMysvLoy4hcZR5eMo8PGUeb2ocIjBsGGy3HfzsZ1FX0rShQ4dGXULiKPPwlHl4yjzeNAFUYO+8\nA+PHw913++Yhn40ePTrqEhJHmYenzMNT5vGmIw6BDRsGu+/uB0XmO10yFZ4yD0+Zh6fM401HHAJa\nsAAmToQ//AE6dIi6GhERkZbTEYeASkpg771hwICoKxEREWkdNQ6BlJXBY4/BTTfF50ZWw4cPj7qE\nxFHm4Snz8JR5vKlxCOSmm2D//eGii6KupPmqqqqiLiFxlHl4yjw8ZR5vmnI6gFdegZ494c9/hv79\no65GRESSRFNOx9CvfgWHHAL9+kVdiYiISNvoqooce/FF+NvfYPJk2EJtmoiIxJz+lOXYsGHwzW/C\nWWdFXUnLVVZWRl1C4ijz8JR5eMo83tQ45NCcOfD8835gpFnU1bTcwIEDoy4hcZR5eMo8PGUeb2oc\ncujWW/3Yhr59o66kdYYNGxZ1CYmjzMNT5uEp83hrceNgZsea2TQzW2Rm1WaWamLbP6S3+Um99S+k\n19csG83s/tbsQL6aOxeefhp+8Yv4jm2I4xUscafMw1Pm4SnzeGvNn7ROwOvA1UDGaznN7Czg28Ci\nRh52wBhgV6AI2A0oqNul/frXcMABcN55UVciIiKSPS2+qsI5NwOYAWDW+Jl7M9sDuBc4FXgyw0tV\nOeeWtvT94+D11+Gvf4X/+z/YcsuoqxEREcmerB9ETzcTDwIjnHMLm9j0QjNbamb/MrPbzGybbNcS\nld/8Brp1gwsuiLqSthk3blzUJSSOMg9PmYenzOMtF2fffw6sd841dcP1h4GLgBOA24CLgYdyUEtw\nb73l52y44QbYKuazZJSVtXmCMWkhZR6eMg9PmcdbVhsHMzsC+AnQ5P0fnXMPOOeecc696ZwrxTcO\nZ5nZPk09r3fv3qRSqTpLz549mTJlSp3tZs6cSSrVcMxmcXFxg063rKyMVCrV4LrikpKSBjdiqaio\nIJVKUV5eXmf9qFGjGDJkCOCPNuy5J5x7bhWpVIrZs2fX2ba0tJQBjdwes1+/fnm1HwD33XcfVVXx\n3w8gNvtx3333FcR+1Jbv+9G1a9eC2I84/T4uv/zygtiPfPx9lJaWfvW3saioiFQqxeDBgxs8py3a\ndK8KM6sGznTOTUv/fC1wJ3UHTW4JVAMVzrluGV6nI7AaONU590wjj8fiXhX//jcceCCMHAnFxVFX\nIyIikv17VWT7YPqDQP0//DPT68c38bzD8M3GJ1muJ6jf/Q522QUuvzzqSkRERHKjxY2DmXUCugM1\nV1R0M7MewHLn3IfAinrbbwAWO+f+nf65G3AB/mqLZUAP4C5glnNuQWt3JGqLF/urKEpKoEOHqKsR\nERHJjdaMcTgSeA2Yhz9KcCdQBtycYfv650LWA6cATwMLgTuASUDGiaTi4N57oV07+PGPo64kexo7\nzye5pczDU+bhKfN4a808DrNoQcNRf1yDc+4j/NUUBWPlSvj97+Gqq2CHHaKuJnsGDRoUdQmJo8zD\nU+bhKfN4i+lkyPllzBioqoIsD1yNXK9evaIuIXGUeXjKPDxlHm9qHNpo3Tq4+2646CLYY4+oqxER\nEcktNQ5t9PDD8PHHUO8yXBERkYKkxqENqqvhjjv8bbMPOijqarKv/sQoknvKPDxlHp4yjzc1Dm3w\n179CeTkMLaj7em5SWloadQmJo8zDU+bhKfN4a9PMkaHk68yRRx8NW2wBf/971JWIiIg0Lt9njkyM\nV16Bl16CqVOjrkRERCQcnapopbvvhu7d4fTTo65EREQkHDUOrVBR4W+dfe21/lSFiIhIUujPXiuM\nGgXbbQeXXRZ1JbnV2O1bJbeUeXjKPDxlHm9qHFpo9WoYOxauuAK23TbqanJLs7uFp8zDU+bhKfN4\n01UVLTRqlJ9a+v33Ya+9Ii1FRERks7J9VYWOOLTAxo3+LpjnnqumQUREkkmXY7bA9Onw7rt+mmkR\nEZEk0hGHFrj7bujZE7797agrCWP27NlRl5A4yjw8ZR6eMo83NQ7N9NprMGtW4d06uykjRoyIuoTE\nUebhKfPwlHm8aXBkM112GTz/vD9VsVVCTvBUVVXRsWPHqMtIFGUenjIPT5mHpcGREVi6FCZOhOLi\n5DQNgP7DjoAyD0+Zh6fM402NQzOMG+e/DhwYbR0iIiJRU+OwGRs3wh/+AP37w847R12NiIhItNQ4\nbMYTT8B//+tPUyTNkCFDoi4hcZR5eMo8PGUeb2ocNmP0aDjqKDjyyKgrCa9r165Rl5A4yjw8ZR6e\nMo83XVXRhHfegQMOgAcfhIsvDva2IiIiWaOrKgK6/34/ruG886KuREREJD+occhg9WoYP97fBbND\nh6irERERyQ9qHDJ4+GHfPPzoR1FXEp3y8vKoS0gcZR6eMg9PmcebGodGOOcHRaZSkOQxPEOHDo26\nhMRR5uEp8/CUebypcWjE7NmwYEEyL8GsbfTo0VGXkDjKPDxlHp4yj7cWNw5mdqyZTTOzRWZWbWap\nJrb9Q3qbn9Rb397M7jOzSjNbZWaPmlmX1uxALvzv/8J++8HJJ0ddSbR0yVR4yjw8ZR6eMo+31hxx\n6AS8DlwNZLyW08zOAr4NLGrk4XuAPsA5wHHA7sDkVtSSdcuWwaOPwpVXglnU1YiIiOSXFt+yyTk3\nA5gBYNb4n1Yz2wO4FzgVeLLeY52BgcD5zrlZ6XUDgIVmdpRzbm5La8qmhx6C6mq49NIoqxAREclP\nWR/jkG4mHgRGOOcWNrLJEfiG5dmaFc65t4EKoGe262kJ52DMGDj7bNhllygryQ/Dhw+PuoTEUebh\nKfPwlHm85WJw5M+B9c65TKNfitKPr6y3fkn6scjMmQMLF/rTFAJVVVVRl5A4yjw8ZR6eMo+3rDYO\nZnYE8BNgQDZft0bv3r1JpVJ1lp49ezJlypQ6282cOZNUquGYzeLiYsbV3CM7raysjFQqRWVlJWPG\nQPfucMIJUFJS0qArrqioIJVKNbgGedSoUQ1u2lJVVUUqlWL27Nl11peWljJgQMN4+vXrl7X9qK0t\n+3HzzTcXxH5AfH4fN998c0HsR235vh8dO3YsiP2I0++jb9++BbEf+fj7KC0t/epvY1FREalUisGD\nBzd4Tlu06V4VZlYNnOmcm5b++VrgTuoOmtwSqAYqnHPdzOxE4G/A12ofdTCzD4C7nXP3NvI+Ob9X\nxfLlsPvucMstoEuMRUSkUOT7vSoeBA4FetRaPgZG4AdKAswDvgS+utjRzA4AugIvZ7meZqsZFHnZ\nZVFVICIikv9afFWFmXUCugM1V1R0M7MewHLn3IfAinrbbwAWO+f+DeCcW2lm44C7zGwFsAoYCcyJ\n6oqKmkGRZ54JXfJmNonoVVZWsvPOO0ddRqIo8/CUeXjKPN5ac8ThSOA1/JEDhz81UQbcnGH7xs6F\nDAamA48CL+CPSpzTilqy4qWX4K23NCiyvoEDB0ZdQuIo8/CUeXjKPN5aM4/DLFrQcDjnujWybh1w\nTXqJ3Jgx0K0bnHRS1JXkl2HDhkVdQuIo8/CUeXjKPN4Sf6+Kzz6Dv/wFfvhD2CLxadSVq4Gokpky\nD0+Zh6fM4y3xfyonToQNGzQoUkREpDkS3ziMHw+nnQa77RZ1JSIiIvkv0Y3DW2/B3LnQyHwaAg0m\nO5HcU+bhKfPwlHm8JbpxGD8edtoJzjgj6kryU1lZm+cJkRZS5uEp8/CUeby1aebIUHIxc+SGDbDX\nXtCvH9zbYK5KERGRwpDvM0fGxowZsGSJTlOIiIi0RGIbh/Hj4Zvf9IuIiIg0TyIbh6VL4a9/1dEG\nERGRlkpk4/Dww2AGF1wQdSX5rbFby0puKfPwlHl4yjzeEtc4OOdPU6RSoHusNG3QoEFRl5A4yjw8\nZR6eMo+3xDUOr70Gb7yh0xTN0atXr6hLSBxlHp4yD0+Zx1viGofx4/0skaeeGnUlIiIi8ZOoxmH9\neigthQsvhK1afF9QERERSVTj8PTTsGwZXHxx1JXEw5QpU6IuIXGUeXjKPDxlHm+JahwmTIBDD/WL\nbF5paWnUJSSOMg9PmYenzOMtMVNOf/457Lor3HorDBmS3fpERETylaacbqXJk/0Yh/79o65EREQk\nvhLTOEyYACedBHvuGXUlIiIi8ZWIxuHDD+GFF+Cii6KuREREJN4S0TiUlkL79nD22VFXEi8DNEtW\ncMo8PGUenjKPt4JvHJyDhx6Cvn2hc+eoq4kXze4WnjIPT5mHp8zjreCvqpg/3986e/p06NMnN/WJ\niIjkK11V0UITJvibWanBFRERabuCbhw2boQ//xnOPx/atYu6GhERkfgr6Mbh+efh4481xXRrzZ49\nO+oSEkeZh6fMw1Pm8VbQjUNpKXTvDt/6VtSVxNOIESOiLiFxlHl4yjw8ZR5vLW4czOxYM5tmZovM\nrNrMUvUeLzGzhWa22syWm9kzZnZUvW1eSD+3ZtloZve3dWdqW78eHnvMn6Ywy+YrJ8fEiROjLiFx\nlHl4yjw8ZR5vrTni0Al4HbgaaOySjLeBYuAQ4GjgA2Cmme1UaxsHjAF2BYqA3YChraglo5kz4bPP\noF+/bL5qsnTs2DHqEhJHmYenzMNT5vG2VUuf4JybAcwAMGv4b3nnXJ1W0sx+ClwOHAo8X+uhKufc\n0pa+f3NNnAjf+AYcckiu3kFERCR5cjrGwczaAVcBnwHz6z18oZktNbN/mdltZrZNtt63qgqmTvWn\nKURERCR7ctI4mFkfM1sFrAWuBb7nnFtea5OHgYuAE4DbgIuBh7L1/k8+CatX6zRFWw3R/ceDU+bh\nKfPwlHm8tfhURTM9B/QAdgauACaZ2VHOuUoA59wDtbZ908w+AZ41s32cc++39c0feQQOPxz226+t\nr5RsXbt2jbqExFHm4Snz8JR5vOXkiINzbo1z7j3n3Fzn3BXAl/hxDpnMBQzo3tTr9u7dm1QqVWfp\n2bMnU6ZM+WqbVatg6tSZrFmTavD84uJixo0bV2ddWVkZqVSKysrKOutLSkoYPnx4nXUVFRWkUinK\ny8vrrB81alSDDrqqqopUKtXgeuXS0tJGb/DSr1+/OvsBMHPmTFKp6PbjmmuuKYj9gPj8Pq655pqC\n2I/a8n0/qqqqCmI/4vT7OProowtiP/Lx91FaWvrV38aioiJSqRSDBw9u8Jy2aNO9KsysGjjTOTdt\nM9v9B3jQOXdLhsePBl4EejjnFjTyeLPvVfHww/722R98AF//ejN3REREpEBl+14VLT5VYWad8EcG\naq6o6GZmPYDlwDLgF8A04BP8qYpBwO7ApPTzuwEXAE+mt+8B3AXMaqxpaKmJE6FnTzUNIiIiudCa\nUxVHAq8B8/DzMdwJlAE3AxuBA4FH8fM5TAO+BhzjnFuYfv564BTgaWAhcAe+qWh4bKiFVqyAp5/W\n1RTZUv+QmuSeMg9PmYenzOOtxY2Dc26Wc24L59yW9ZaBzrl1zrlznHN7Oee2cc7t6Zw7q/ahEefc\nR865E5xzuzjnOjrnDnDO3eCcW93WnXn8cfjySzjvvLa+kgAMHZrVObmkGZR5eMo8PGUebwV1r4qJ\nE+H442G33aKupDCMHj066hISR5mHp8zDU+bxVjCNw6efwrPPau6GbNIlU+Ep8/CUeXjKPN4KpnGo\nuaLmnHOirUNERKSQFUzjMHmyP02xyy5RVyIiIlK4CqJxWL4cnntORxuyrf4EJpJ7yjw8ZR6eMo+3\ngmgcpk3zV1OcdVbUlRSW+jPqSe4p8/CUeXjKPN7aNHNkKJubOfKMM/wcDvVm5xQREUm8bM8cGfsj\nDitXwsyZOk0hIiISQuwbh+nTYf16NQ4iIiIhxL5xmDwZvvUt0GXB2Vf/jm+Se8o8PGUenjKPt1g3\nDl98AU89BeeeG3UlhWngwIFRl5A4yjw8ZR6eMo+3WDcOTz0Fa9boNEWuDBs2LOoSEkeZh6fMw1Pm\n8RbrxmHyZOjRA/bdN+pKClNjV7BIbinz8JR5eMo83mLbOKxd6wdG6jSFiIhIOLFtHGbOhNWrdZpC\nREQkpNg2DpMnw8EHw0EHRV1J4Ro3blzUJSSOMg9PmYenzOMtlo3Dhg1+mumzz466ksJWVtbmCcak\nhZR5eMo8PGUeb7Gccvq55+Dkk+Gf/wQ/i6aIiIg0RlNOA1Onwp57ggbmioiIhBW7xsE5mDIF+vYF\ns6irERERSZbYNQ7z50NFhW8cREREJKzYNQ5Tp0LnznD88VFXUvhSqVTUJSSOMg9PmYenzOMtlo1D\nnz6w9dZRV1L4Bg0aFHUJiaPMw1Pm4SnzeItV4/DJJ/DaazpNEUqvXr2iLiFxlHl4yjw8ZR5vsWoc\nZs2Cdu3g+9+PuhIREZFkilXj8MILcNJJfoyDiIiIhBerxmHePJ2mCGnKlClRl5A4yjw8ZR6eMo+3\nWDUO1dWgwbjhDB8+POoSEkeZh6fMw1Pm8dbixsHMjjWzaWa2yMyqzSxV7/ESM1toZqvNbLmZPWNm\nR9Xbpr2Z3WdmlWa2ysweNbMum3vvgw+GPfZoacXSWrvsskvUJSSOMg9PmYenzOOtNUccOgGvA1cD\njd3o4m2gGDgEOBr4AJhpZjvV2uYeoA9wDnAcsDsweXNvfMIJrahWREREsmarlj7BOTcDmAFg1nDS\nZ+fcxNo/m9lPgcuBQ4HnzawzMBA43zk3K73NAGChmR3lnJub6b016ZOIiEi0cjrGwczaAVcBnwHz\n06uPwDcsz9Zs55x7G6gAejb1evvum5s6RUREpHlafMShOcysDzAR6Ah8DHzPObc8/XARsN45t7Le\n05akH2tMB4Dy8oW6sVVAc+fOpayszXdglRZQ5uEp8/CUeVgLFy6s+bZDNl7PnGtsmEIzn2xWDZzp\nnJtWb/02wG7AzsAVwMnAUc65SjPrD/zRObdNvef8A3jOOXdDI+9zAfBwqwsVERGRC51zf27ri+Tk\niINzbg3wXnqZa2bv4Mc5DAcWA1ubWed6Rx12TT/WmKeBC/EDLdfmomYREZEC1QHYG/+3tM1y0jg0\nYgugffr7ecCX+KMQjwOY2QFAV+Dlxp7snFsGtLlLEhERSaiXsvVCLW4czKwT0B2oGW3Qzcx6AMuB\nZcAvgGnAJ/hTFYPwl1tOAnDOrTSzccBdZrYCWAWMBOY0dUWFiIiIRK81RxyOBJ7Hz+HggDvT6/8P\n+DFwIHAJvmlYBrwKHOOcW1jrNQYDG4FH8UciZuDnfhAREZE81qbBkSIiIpIssbpXhYiIiERLjYOI\niIg0W143DukbZlXXW96Kuq5CsrmblqW3ucXMPjazqvRNy7pHUWuhaMaN4sY38rl/Mqp6487MbjCz\nuWa20syWmNnjZrZ/I9vpc54lzclcn/PsMrMfmdl8M/s8vbxkZqfV2yYrn/G8bhzSFuDneChKL8dE\nW07BafKmZWZ2Pf7KmCuBo4AvgKfNbOuQRRaYzd0oDuAp6n7u+4cprSAdC4wCvg2cArTD33jvq0no\n9DnPus1mnqbPefZ8CFwPHI6/tcNzwFQzOwiy+xnP68GRZlYC9HXOHR51LUnQ2EygZvYxcIdz7u70\nz53x04Nf6pz7SzSVFo4MmY8HtnfOnR1dZYXLzHYGPgWOc87NTq/T5zyHMmSuz3mOmdky4GfOufHZ\n/IzH4YjDfulDuu+a2QQz2yvqgpLCzPbB/yug9g3JVgL/YDM3JJM2OyF9iLfczO43sx2jLqiA7IA/\n0rMc9DkPpE7mtehzngNmtoWZnY+/X9RL2f6Mh5o5srVeAS4D3sbf+2IY8KKZHeKc+yLCupKiCP8f\n+5J665u6IZm03VPAZOB9YF/gt8CTZtbT5fMhwhgwMwPuAWY752rGS+lznkMZMgd9zrPOzA7Bz8Dc\nAT+54lnOubfNrCdZ/IzndePgnKs9r/YCM5sL/Bf4ATA+mqpEcqveYcM3zexfwLvACfjJ16T17gcO\nBo6OupAEaTRzfc5zohzoAWwPnAs8aGbHZftN4nCq4ivOuc+Bd/BTXkvuLcZPLb5rvfVN3ZBMssw5\n9z5QiT73bWJmo4HewAnOuU9qPaTPeY40kXkD+py3nXPuS+fce86515xzvwDmA9eS5c94rBoHM9sW\n/6Fq8gMo2ZH+D3kx/oZkwFcDar5NFm+YIk0zsz2BndDnvtXSf8D6Aic65ypqP6bPeW40lXmG7fU5\nz74tgPbZ/ozn9akKM7sD+Cv+9MQewM3ABqA0yroKiTVx0zLn3If4c5O/NLP/4G9rfivwETA1gnIL\nQlOZp5cS/LnfxenthuOPtGXllrhJY2b34y/zSwFfmFnNv7o+d86tTX+vz3kWbS7z9H8D+pxnkZnd\nhh83UgFsB1wIHA/0Sm+Svc+4cy5vF3yD8BGwJh3Gn4F9oq6rkJb0B6saf9Ox2ssfa20zDPgYqML/\nR9096rrjvDSVOX5Q0wz8/0zXAu8Bvwd2ibruuC4Zst4IXFJvO33OA2Wuz3lOMn8gneOadK4zgZPq\nbZOVz3hez+MgIiIi+SVWYxxEREQkWmocREREpNnUOIiIiEizqXEQERGRZlPjICIiIs2mxkFERESa\nTY2DiIiINJsaBxEREWk2NQ4iIiLSbGocREREpNnUOIiIiEiz/X/RvDwUAzifnAAAAABJRU5ErkJg\ngg==\n",
      "text/plain": [
       "<matplotlib.figure.Figure at 0x27022541b00>"
      ]
     },
     "metadata": {},
     "output_type": "display_data"
    }
   ],
>>>>>>> fecb2da7a46ef1983effb3aeeddceef4a26a6e62
   "source": [
    "import numpy as np\n",
    "import matplotlib.pyplot as plt\n",
    "%matplotlib inline\n",
    "\n",
    "# f(x) = 170 - 108exp(-0.2x) のグラフ(expは指数関数)を描画する\n",
    "# xの範囲は5から30で、プロットは100分割し、さらにグリッド線を引く\n",
    "\n",
    "def f(x):\n",
    "    return 170 - 108 * np.exp(-0.2 * x)\n",
    "\n",
    "x = np.linspace(5, 30, 100)\n",
    "plt.plot(x, f(x))\n",
    "plt.grid(True)\n",
    "plt.show()"
   ]
  },
  {
   "cell_type": "code",
   "execution_count": null,
   "metadata": {
    "collapsed": true
   },
   "outputs": [],
   "source": []
  }
 ],
 "metadata": {
  "anaconda-cloud": {},
  "kernelspec": {
   "display_name": "Python [default]",
   "language": "python",
   "name": "python3"
  },
  "language_info": {
   "codemirror_mode": {
    "name": "ipython",
    "version": 3
   },
   "file_extension": ".py",
   "mimetype": "text/x-python",
   "name": "python",
   "nbconvert_exporter": "python",
   "pygments_lexer": "ipython3",
   "version": "3.5.2"
  }
 },
 "nbformat": 4,
 "nbformat_minor": 2
}
